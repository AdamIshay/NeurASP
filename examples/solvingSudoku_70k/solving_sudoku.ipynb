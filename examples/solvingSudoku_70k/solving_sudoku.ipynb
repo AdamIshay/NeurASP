{
 "cells": [
  {
   "cell_type": "markdown",
   "metadata": {},
   "source": [
    "# Sudoku"
   ]
  },
  {
   "cell_type": "code",
   "execution_count": 1,
   "metadata": {
    "scrolled": false
   },
   "outputs": [],
   "source": [
    "import sys\n",
    "sys.path.append('../../')\n",
    "import time\n",
    "import torch\n",
    "\n",
    "from dataGen import dataList, obsList, train_loader, test_loader\n",
    "from neurasp import NeurASP\n",
    "from network import Sudoku_Net"
   ]
  },
  {
   "cell_type": "markdown",
   "metadata": {},
   "source": [
    "## NeurASP program"
   ]
  },
  {
   "cell_type": "code",
   "execution_count": 2,
   "metadata": {},
   "outputs": [],
   "source": [
    "dprogram = '''\n",
    "% neural rule\n",
    "nn(predict(81, config), [1,2,3,4,5,6,7,8,9]).\n",
    "\n",
    "% we assign one number at each position (R,C)\n",
    "a(R,C,N) :- predict(config, Pos, N), R=Pos/9, C=Pos\\9.\n",
    "\n",
    "% it's a mistake if the same number shows 2 times in a row\n",
    ":- a(R,C1,N), a(R,C2,N), C1!=C2.\n",
    "\n",
    "% it's a mistake if the same number shows 2 times in a column\n",
    ":- a(R1,C,N), a(R2,C,N), R1!=R2.\n",
    "\n",
    "% it's a mistake if the same number shows 2 times in a 3*3 grid\n",
    ":- a(R,C,N), a(R1,C1,N), R!=R1, C!=C1, ((R/3)*3 + C/3) = ((R1/3)*3 + C1/3).\n",
    "'''"
   ]
  },
  {
   "cell_type": "markdown",
   "metadata": {},
   "source": [
    "## Neural Network Instantiation\n",
    "- Instantiate neural networks.\n",
    "- Define nnMapping: a dictionary that maps neural network names (i.e., strings) to the neural network objects (i.e., torch.nn.Module object)\n",
    "- Define optimizers: a dictionary that specifies the optimizer for each network (we use the Adam optimizer here)."
   ]
  },
  {
   "cell_type": "code",
   "execution_count": 3,
   "metadata": {},
   "outputs": [],
   "source": [
    "m = Sudoku_Net()\n",
    "nnMapping = {'predict': m}\n",
    "optimizers = {'predict': torch.optim.Adam(m.parameters(), lr=0.0001)}"
   ]
  },
  {
   "cell_type": "markdown",
   "metadata": {},
   "source": [
    "## Create NeurASP Object\n",
    "\n",
    "We use all constraints to train the neural network, which corresponds to the experiment nr-p-r-opt at the table at the end of this document. "
   ]
  },
  {
   "cell_type": "code",
   "execution_count": 4,
   "metadata": {},
   "outputs": [],
   "source": [
    "NeurASPobj = NeurASP(dprogram, nnMapping, optimizers, gpu=False)"
   ]
  },
  {
   "cell_type": "markdown",
   "metadata": {},
   "source": [
    "## Training and Testing"
   ]
  },
  {
   "cell_type": "code",
   "execution_count": null,
   "metadata": {},
   "outputs": [],
   "source": [
    "startTime = time.time()\n",
    "print('Initial test accuracy (whole board): {:0.2f}%\\nInitial test accuracy (single cell): {:0.2f}%'.format(*NeurASPobj.testNN('predict', test_loader)))\n",
    "\n",
    "for i in range(100):\n",
    "    print('Training for Epoch {}...'.format(i+1))\n",
    "    time1 = time.time()\n",
    "    NeurASPobj.learn(dataList=dataList, obsList=obsList, alpha=0, epoch=1, method='exact', smPickle='data/stableModels.pickle', batchSize=1)\n",
    "    time2 = time.time()\n",
    "    acc, singleAcc = NeurASPobj.testNN('predict', train_loader)\n",
    "    print('Train Acc (whole board): {:0.2f}%'.format(acc))\n",
    "    print('Train Acc (single cell): {:0.2f}%'.format(singleAcc))\n",
    "    acc, singleAcc = NeurASPobj.testNN('predict', test_loader)\n",
    "    print('Test Acc (whole board): {:0.2f}%'.format(acc))\n",
    "    print('Test Acc (single cell): {:0.2f}%'.format(singleAcc))\n",
    "    print(\"--- train time: %s seconds ---\" % (time2 - time1))\n",
    "    print(\"--- test time: %s seconds ---\" % (time.time() - time2))\n",
    "    print('--- total time from beginning: %s minutes ---' % int((time.time() - startTime)/60) )\n",
    "    \n",
    "    saveModelPath = 'data/model_data70k_alpha0_batchSize1_epoch{}'.format(i+1)\n",
    "    print('Storing the trained model into {}'.format(saveModelPath))\n",
    "    torch.save(m.state_dict(), saveModelPath)"
   ]
  }
 ],
 "metadata": {
  "kernelspec": {
   "display_name": "Python 3",
   "language": "python",
   "name": "python3"
  },
  "language_info": {
   "codemirror_mode": {
    "name": "ipython",
    "version": 3
   },
   "file_extension": ".py",
   "mimetype": "text/x-python",
   "name": "python",
   "nbconvert_exporter": "python",
   "pygments_lexer": "ipython3",
   "version": "3.7.1"
  }
 },
 "nbformat": 4,
 "nbformat_minor": 2
}
